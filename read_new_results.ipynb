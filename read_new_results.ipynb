{
 "cells": [
  {
   "cell_type": "code",
   "execution_count": 1,
   "metadata": {},
   "outputs": [],
   "source": [
    "import os, json\n",
    "import pandas as pd\n",
    "import numpy as np\n",
    "import matplotlib.pyplot as plt"
   ]
  },
  {
   "cell_type": "code",
   "execution_count": 2,
   "metadata": {},
   "outputs": [],
   "source": [
    "all_files = os.listdir('results')\n",
    "cfgs = sorted([n for n in all_files if 'cfg' in n])\n",
    "perfs = sorted([n[:-11]+'_performance_summary.csv' for n in cfgs])"
   ]
  },
  {
   "cell_type": "code",
   "execution_count": 3,
   "metadata": {
    "scrolled": true
   },
   "outputs": [
    {
     "data": {
      "text/plain": [
       "[('2020-01-10-07:5719_config.cfg',\n",
       "  '2020-01-10-07:5719_performance_summary.csv'),\n",
       " ('2020-01-10-07:5721_config.cfg',\n",
       "  '2020-01-10-07:5721_performance_summary.csv'),\n",
       " ('2020-01-10-07:5722_config.cfg',\n",
       "  '2020-01-10-07:5722_performance_summary.csv'),\n",
       " ('2020-01-10-08:5109_config.cfg',\n",
       "  '2020-01-10-08:5109_performance_summary.csv'),\n",
       " ('2020-01-10-08:5113_config.cfg',\n",
       "  '2020-01-10-08:5113_performance_summary.csv'),\n",
       " ('2020-01-10-08:5613_config.cfg',\n",
       "  '2020-01-10-08:5613_performance_summary.csv'),\n",
       " ('2020-01-10-10:3539_config.cfg',\n",
       "  '2020-01-10-10:3539_performance_summary.csv'),\n",
       " ('2020-01-10-10:3545_config.cfg',\n",
       "  '2020-01-10-10:3545_performance_summary.csv'),\n",
       " ('2020-01-10-10:4801_config.cfg',\n",
       "  '2020-01-10-10:4801_performance_summary.csv'),\n",
       " ('2020-01-10-12:5832_config.cfg',\n",
       "  '2020-01-10-12:5832_performance_summary.csv'),\n",
       " ('2020-01-10-12:5842_config.cfg',\n",
       "  '2020-01-10-12:5842_performance_summary.csv'),\n",
       " ('2020-01-10-12:5846_config.cfg',\n",
       "  '2020-01-10-12:5846_performance_summary.csv'),\n",
       " ('2020-01-13-11:5216_config.cfg',\n",
       "  '2020-01-13-11:5216_performance_summary.csv'),\n",
       " ('2020-01-13-11:5258_config.cfg',\n",
       "  '2020-01-13-11:5258_performance_summary.csv')]"
      ]
     },
     "execution_count": 3,
     "metadata": {},
     "output_type": "execute_result"
    }
   ],
   "source": [
    "list(zip(cfgs, perfs))"
   ]
  },
  {
   "cell_type": "code",
   "execution_count": 4,
   "metadata": {},
   "outputs": [
    {
     "data": {
      "text/html": [
       "<div>\n",
       "<style scoped>\n",
       "    .dataframe tbody tr th:only-of-type {\n",
       "        vertical-align: middle;\n",
       "    }\n",
       "\n",
       "    .dataframe tbody tr th {\n",
       "        vertical-align: top;\n",
       "    }\n",
       "\n",
       "    .dataframe thead th {\n",
       "        text-align: right;\n",
       "    }\n",
       "</style>\n",
       "<table border=\"1\" class=\"dataframe\">\n",
       "  <thead>\n",
       "    <tr style=\"text-align: right;\">\n",
       "      <th></th>\n",
       "      <th>dataset</th>\n",
       "      <th>auc</th>\n",
       "      <th>acc</th>\n",
       "      <th>dice/F1</th>\n",
       "      <th>dice/F1_from_bin</th>\n",
       "      <th>spec</th>\n",
       "      <th>sens</th>\n",
       "    </tr>\n",
       "  </thead>\n",
       "  <tbody>\n",
       "    <tr>\n",
       "      <th>0</th>\n",
       "      <td>DRIVE_train</td>\n",
       "      <td>0.9793</td>\n",
       "      <td>0.9551</td>\n",
       "      <td>0.8224</td>\n",
       "      <td>0.8209</td>\n",
       "      <td>0.9741</td>\n",
       "      <td>0.8236</td>\n",
       "    </tr>\n",
       "    <tr>\n",
       "      <th>1</th>\n",
       "      <td>DRIVE_val</td>\n",
       "      <td>0.9825</td>\n",
       "      <td>0.9545</td>\n",
       "      <td>0.8175</td>\n",
       "      <td>0.8045</td>\n",
       "      <td>0.9711</td>\n",
       "      <td>0.8354</td>\n",
       "    </tr>\n",
       "    <tr>\n",
       "      <th>2</th>\n",
       "      <td>DRIVE</td>\n",
       "      <td>0.9787</td>\n",
       "      <td>0.9555</td>\n",
       "      <td>0.8182</td>\n",
       "      <td>0.8189</td>\n",
       "      <td>0.9802</td>\n",
       "      <td>0.7861</td>\n",
       "    </tr>\n",
       "    <tr>\n",
       "      <th>3</th>\n",
       "      <td>STARE</td>\n",
       "      <td>0.9638</td>\n",
       "      <td>0.9548</td>\n",
       "      <td>0.7789</td>\n",
       "      <td>0.7686</td>\n",
       "      <td>0.9760</td>\n",
       "      <td>0.7711</td>\n",
       "    </tr>\n",
       "    <tr>\n",
       "      <th>4</th>\n",
       "      <td>CHASEDB</td>\n",
       "      <td>0.9635</td>\n",
       "      <td>0.9465</td>\n",
       "      <td>0.7248</td>\n",
       "      <td>0.7344</td>\n",
       "      <td>0.9746</td>\n",
       "      <td>0.6966</td>\n",
       "    </tr>\n",
       "    <tr>\n",
       "      <th>5</th>\n",
       "      <td>AV-WIDE</td>\n",
       "      <td>0.7965</td>\n",
       "      <td>0.9491</td>\n",
       "      <td>0.4276</td>\n",
       "      <td>0.5118</td>\n",
       "      <td>0.9965</td>\n",
       "      <td>0.2851</td>\n",
       "    </tr>\n",
       "  </tbody>\n",
       "</table>\n",
       "</div>"
      ],
      "text/plain": [
       "       dataset     auc     acc  dice/F1  dice/F1_from_bin    spec    sens\n",
       "0  DRIVE_train  0.9793  0.9551   0.8224            0.8209  0.9741  0.8236\n",
       "1    DRIVE_val  0.9825  0.9545   0.8175            0.8045  0.9711  0.8354\n",
       "2        DRIVE  0.9787  0.9555   0.8182            0.8189  0.9802  0.7861\n",
       "3        STARE  0.9638  0.9548   0.7789            0.7686  0.9760  0.7711\n",
       "4      CHASEDB  0.9635  0.9465   0.7248            0.7344  0.9746  0.6966\n",
       "5      AV-WIDE  0.7965  0.9491   0.4276            0.5118  0.9965  0.2851"
      ]
     },
     "execution_count": 4,
     "metadata": {},
     "output_type": "execute_result"
    }
   ],
   "source": [
    "pd.read_csv('results/'+perfs[0])"
   ]
  },
  {
   "cell_type": "code",
   "execution_count": 5,
   "metadata": {},
   "outputs": [],
   "source": [
    "all_results = []\n",
    "for i in range(len(cfgs)):\n",
    "    with open('results/'+cfgs[i], 'r') as f:\n",
    "        args = json.load(f)\n",
    "    res = pd.read_csv('results/'+perfs[i])    \n",
    "    all_results.append([args,res])"
   ]
  },
  {
   "cell_type": "code",
   "execution_count": 6,
   "metadata": {},
   "outputs": [
    {
     "data": {
      "text/plain": [
       "['layers',\n",
       " 'n_classes',\n",
       " 'in_channels',\n",
       " 'up_mode',\n",
       " 'pool_mode',\n",
       " 'conv_bridge',\n",
       " 'shortcut',\n",
       " 'lr',\n",
       " 'disable_transforms',\n",
       " 'eps',\n",
       " 'batch_size',\n",
       " 'data_aug',\n",
       " 'normalize',\n",
       " 'metric',\n",
       " 'patience',\n",
       " 'scheduler_f',\n",
       " 'n_epochs',\n",
       " 'data_path',\n",
       " 'end2end',\n",
       " 'experiment_path',\n",
       " 'config_file_path']"
      ]
     },
     "execution_count": 6,
     "metadata": {},
     "output_type": "execute_result"
    }
   ],
   "source": [
    "list(all_results[0][0].keys())"
   ]
  },
  {
   "cell_type": "code",
   "execution_count": 7,
   "metadata": {},
   "outputs": [
    {
     "name": "stdout",
     "output_type": "stream",
     "text": [
      "this one for both of them! 0.01\n",
      "       dataset     auc     acc  dice/F1  dice/F1_from_bin    spec    sens\n",
      "0  DRIVE_train  0.9813  0.9568   0.8282            0.8274  0.9759  0.8245\n",
      "1    DRIVE_val  0.9825  0.9544   0.8170            0.8061  0.9710  0.8347\n",
      "2        DRIVE  0.9796  0.9559   0.8182            0.8219  0.9816  0.7797\n",
      "3        STARE  0.9772  0.9579   0.7958            0.7825  0.9766  0.7950\n",
      "4      CHASEDB  0.9669  0.9481   0.7374            0.7421  0.9737  0.7206\n",
      "5      AV-WIDE  0.8482  0.9550   0.5841            0.5822  0.9893  0.4744\n"
     ]
    }
   ],
   "source": [
    "both_of_them_l = []\n",
    "conv_bridge_l = []\n",
    "shortcut_l = []\n",
    "none_of_them_l = []\n",
    "for i in range(len(cfgs)):\n",
    "    conv_bridge = all_results[i][0]['conv_bridge']\n",
    "    shortcut = all_results[i][0]['shortcut']\n",
    "    lr = all_results[i][0]['lr']\n",
    "    val_auc = all_results[i][1].iat[1,1]\n",
    "    train_auc = all_results[i][1].iat[0,1]\n",
    "    test_auc = all_results[i][1].iat[2,1]\n",
    "\n",
    "    \n",
    "    if conv_bridge and shortcut: \n",
    "        print('this one for both of them!', lr)\n",
    "        print(all_results[i][1])\n",
    "    if conv_bridge and shortcut:\n",
    "        both_of_them_l.append([lr,val_auc,test_auc])\n",
    "    if conv_bridge and not shortcut:\n",
    "        conv_bridge_l.append([lr,val_auc,test_auc])\n",
    "    if not conv_bridge and shortcut:\n",
    "        shortcut_l.append([lr,val_auc,test_auc])       \n",
    "    if not conv_bridge and not shortcut:\n",
    "        none_of_them_l.append([lr,val_auc,test_auc])\n",
    "\n",
    "both_of_them = np.array(both_of_them_l)\n",
    "conv_bridge = np.array(conv_bridge_l)\n",
    "shortcut = np.array(shortcut_l)\n",
    "none_of_them = np.array(none_of_them_l)"
   ]
  },
  {
   "cell_type": "code",
   "execution_count": 13,
   "metadata": {
    "scrolled": false
   },
   "outputs": [
    {
     "name": "stdout",
     "output_type": "stream",
     "text": [
      "this one for both of them! 0.01\n",
      "       dataset     auc     acc  dice/F1  dice/F1_from_bin    spec    sens\n",
      "0  DRIVE_train  0.9813  0.9568   0.8282            0.8274  0.9759  0.8245\n",
      "1    DRIVE_val  0.9825  0.9544   0.8170            0.8061  0.9710  0.8347\n",
      "2        DRIVE  0.9796  0.9559   0.8182            0.8219  0.9816  0.7797\n",
      "3        STARE  0.9772  0.9579   0.7958            0.7825  0.9766  0.7950\n",
      "4      CHASEDB  0.9669  0.9481   0.7374            0.7421  0.9737  0.7206\n",
      "5      AV-WIDE  0.8482  0.9550   0.5841            0.5822  0.9893  0.4744\n"
     ]
    }
   ],
   "source": [
    "both_of_them_l = []\n",
    "conv_bridge_l = []\n",
    "shortcut_l = []\n",
    "none_of_them_l = []\n",
    "for i in range(len(cfgs)):\n",
    "    conv_bridge = all_results[i][0]['conv_bridge']\n",
    "    shortcut = all_results[i][0]['shortcut']\n",
    "    lr = all_results[i][0]['lr']\n",
    "    val_auc = all_results[i][1].iat[1,1]\n",
    "    train_auc = all_results[i][1].iat[0,1]\n",
    "    test_auc = all_results[i][1].iat[2,1]\n",
    "\n",
    "    if not conv_bridge and not shortcut:\n",
    "#         print('this one for none of them!', lr)\n",
    "#         print(all_results[i][1])        \n",
    "        none_of_them_l.append([lr,val_auc,test_auc])    \n",
    "    \n",
    "    if conv_bridge and not shortcut:\n",
    "#         print('this one for ONLY conv_bridge!', lr)\n",
    "#         print(all_results[i][1])\n",
    "        conv_bridge_l.append([lr,val_auc,test_auc])\n",
    "    \n",
    "    if not conv_bridge and shortcut:\n",
    "#         print('this one for ONLY shortcut!', lr)\n",
    "#         print(all_results[i][1])\n",
    "        shortcut_l.append([lr,val_auc,test_auc]) \n",
    "    \n",
    "\n",
    "\n",
    "    if conv_bridge and shortcut:\n",
    "        print('this one for both of them!', lr)\n",
    "        print(all_results[i][1])\n",
    "        both_of_them_l.append([lr,val_auc,test_auc])\n",
    "    \n",
    "both_of_them = np.array(both_of_them_l)\n",
    "conv_bridge = np.array(conv_bridge_l)\n",
    "shortcut = np.array(shortcut_l)\n",
    "none_of_them = np.array(none_of_them_l)"
   ]
  },
  {
   "cell_type": "markdown",
   "metadata": {},
   "source": [
    "Best None Of Them"
   ]
  },
  {
   "cell_type": "markdown",
   "metadata": {},
   "source": [
    "       dataset     auc     acc  dice/F1  dice/F1_from_bin    spec    sens\n",
    "0  DRIVE_train  0.9799  0.9559   0.8243            0.8231  0.9755  0.8200\n",
    "1    DRIVE_val  0.9825  0.9544   0.8172            0.8060  0.9707  0.8365\n",
    "2        DRIVE  0.9791  0.9557   0.8196            0.8203  0.9797  0.7909\n",
    "3        STARE  0.9667  0.9553   0.7816            0.7712  0.9759  0.7756\n",
    "4      CHASEDB  0.9729  0.9494   0.7616            0.7479  0.9664  0.7984\n",
    "5      AV-WIDE  0.8779  0.9557   0.6148            0.5862  0.9861  0.5302"
   ]
  },
  {
   "cell_type": "markdown",
   "metadata": {},
   "source": [
    "Best ONLY CONV_BRIDGE"
   ]
  },
  {
   "cell_type": "markdown",
   "metadata": {},
   "source": [
    "       dataset     auc     acc  dice/F1  dice/F1_from_bin    spec    sens\n",
    "0  DRIVE_train  0.9805  0.9564   0.8262            0.8258  0.9758  0.8217\n",
    "1    DRIVE_val  0.9826  0.9545   0.8178            0.8093  0.9708  0.8372\n",
    "2        DRIVE  0.9793  0.9559   0.8203            0.8220  0.9800  0.7905\n",
    "3        STARE  0.9774  0.9565   0.7922            0.7844  0.9742  0.8030\n",
    "4      CHASEDB  0.9720  0.9491   0.7595            0.7517  0.9665  0.7943\n",
    "5      AV-WIDE  0.8772  0.9546   0.6273            0.6000  0.9819  0.5728"
   ]
  },
  {
   "cell_type": "markdown",
   "metadata": {},
   "source": [
    "Best ONLY SHORTCUT"
   ]
  },
  {
   "cell_type": "markdown",
   "metadata": {},
   "source": [
    "       dataset     auc     acc  dice/F1  dice/F1_from_bin    spec    sens\n",
    "0  DRIVE_train  0.9800  0.9558   0.8248            0.8245  0.9748  0.8240\n",
    "1    DRIVE_val  0.9818  0.9542   0.8138            0.8050  0.9727  0.8208\n",
    "2        DRIVE  0.9786  0.9555   0.8151            0.8207  0.9825  0.7705\n",
    "3        STARE  0.9723  0.9562   0.7852            0.7745  0.9768  0.7766\n",
    "4      CHASEDB  0.9655  0.9463   0.7201            0.7357  0.9759  0.6829\n",
    "5      AV-WIDE  0.8530  0.9535   0.5909            0.5736  0.9857  0.5034"
   ]
  },
  {
   "cell_type": "markdown",
   "metadata": {},
   "source": [
    "Best Both of Them"
   ]
  },
  {
   "cell_type": "markdown",
   "metadata": {},
   "source": [
    "       dataset     auc     acc  dice/F1  dice/F1_from_bin    spec    sens\n",
    "0  DRIVE_train  0.9813  0.9568   0.8282            0.8274  0.9759  0.8245\n",
    "1    DRIVE_val  0.9825  0.9544   0.8170            0.8061  0.9710  0.8347\n",
    "2        DRIVE  0.9796  0.9559   0.8182            0.8219  0.9816  0.7797\n",
    "3        STARE  0.9772  0.9579   0.7958            0.7825  0.9766  0.7950\n",
    "4      CHASEDB  0.9669  0.9481   0.7374            0.7421  0.9737  0.7206\n",
    "5      AV-WIDE  0.8482  0.9550   0.5841            0.5822  0.9893  0.4744"
   ]
  },
  {
   "cell_type": "code",
   "execution_count": null,
   "metadata": {},
   "outputs": [],
   "source": []
  },
  {
   "cell_type": "code",
   "execution_count": null,
   "metadata": {},
   "outputs": [],
   "source": []
  },
  {
   "cell_type": "code",
   "execution_count": 14,
   "metadata": {},
   "outputs": [
    {
     "data": {
      "text/plain": [
       "array([[0.01  , 0.9825, 0.9787],\n",
       "       [0.01  , 0.9825, 0.9791],\n",
       "       [0.01  , 0.9816, 0.9784],\n",
       "       [0.01  , 0.9823, 0.9789]])"
      ]
     },
     "execution_count": 14,
     "metadata": {},
     "output_type": "execute_result"
    }
   ],
   "source": [
    "none_of_them[none_of_them[:,0].argsort()]"
   ]
  },
  {
   "cell_type": "code",
   "execution_count": 17,
   "metadata": {},
   "outputs": [
    {
     "data": {
      "text/plain": [
       "array([[0.005 , 0.9823, 0.979 ],\n",
       "       [0.005 , 0.9821, 0.9792],\n",
       "       [0.005 , 0.9826, 0.9793],\n",
       "       [0.005 , 0.9823, 0.9792],\n",
       "       [0.01  , 0.9823, 0.9791],\n",
       "       [0.01  , 0.9821, 0.979 ],\n",
       "       [0.01  , 0.9823, 0.9791],\n",
       "       [0.01  , 0.9821, 0.9788]])"
      ]
     },
     "execution_count": 17,
     "metadata": {},
     "output_type": "execute_result"
    }
   ],
   "source": [
    "conv_bridge[conv_bridge[:,0].argsort()]"
   ]
  },
  {
   "cell_type": "code",
   "execution_count": 18,
   "metadata": {},
   "outputs": [
    {
     "data": {
      "text/plain": [
       "array([[0.01  , 0.9818, 0.9786]])"
      ]
     },
     "execution_count": 18,
     "metadata": {},
     "output_type": "execute_result"
    }
   ],
   "source": [
    "shortcut[shortcut[:,0].argsort()]"
   ]
  },
  {
   "cell_type": "code",
   "execution_count": 15,
   "metadata": {},
   "outputs": [
    {
     "data": {
      "text/plain": [
       "array([[0.01  , 0.9825, 0.9796]])"
      ]
     },
     "execution_count": 15,
     "metadata": {},
     "output_type": "execute_result"
    }
   ],
   "source": [
    "both_of_them[both_of_them[:,0].argsort()]"
   ]
  },
  {
   "cell_type": "code",
   "execution_count": null,
   "metadata": {},
   "outputs": [],
   "source": [
    "# conv_bridge[conv_bridge[:,0].argsort()]"
   ]
  },
  {
   "cell_type": "code",
   "execution_count": null,
   "metadata": {},
   "outputs": [],
   "source": [
    "# shortcut[shortcut[:,0].argsort()]"
   ]
  },
  {
   "cell_type": "code",
   "execution_count": null,
   "metadata": {},
   "outputs": [],
   "source": [
    "all_results[0][1]"
   ]
  },
  {
   "cell_type": "code",
   "execution_count": null,
   "metadata": {},
   "outputs": [],
   "source": []
  }
 ],
 "metadata": {
  "kernelspec": {
   "display_name": "pytorch_cpu",
   "language": "python",
   "name": "pytorch_cpu"
  },
  "language_info": {
   "codemirror_mode": {
    "name": "ipython",
    "version": 3
   },
   "file_extension": ".py",
   "mimetype": "text/x-python",
   "name": "python",
   "nbconvert_exporter": "python",
   "pygments_lexer": "ipython3",
   "version": "3.7.5"
  }
 },
 "nbformat": 4,
 "nbformat_minor": 2
}
