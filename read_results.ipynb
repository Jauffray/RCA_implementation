{
 "cells": [
  {
   "cell_type": "code",
   "execution_count": 63,
   "metadata": {},
   "outputs": [],
   "source": [
    "import os, json\n",
    "import pandas as pd\n",
    "import numpy as np\n",
    "import matplotlib.pyplot as plt"
   ]
  },
  {
   "cell_type": "code",
   "execution_count": 64,
   "metadata": {},
   "outputs": [],
   "source": [
    "all_files = os.listdir('results')\n",
    "cfgs = sorted([n for n in all_files if 'cfg' in n])\n",
    "perfs = sorted([n[:-11]+'_performance_summary.csv' for n in cfgs])"
   ]
  },
  {
   "cell_type": "code",
   "execution_count": 65,
   "metadata": {
    "scrolled": true
   },
   "outputs": [
    {
     "data": {
      "text/plain": [
       "[]"
      ]
     },
     "execution_count": 65,
     "metadata": {},
     "output_type": "execute_result"
    }
   ],
   "source": [
    "list(zip(cfgs, perfs))"
   ]
  },
  {
   "cell_type": "code",
   "execution_count": 15,
   "metadata": {},
   "outputs": [
    {
     "data": {
      "text/html": [
       "<div>\n",
       "<style scoped>\n",
       "    .dataframe tbody tr th:only-of-type {\n",
       "        vertical-align: middle;\n",
       "    }\n",
       "\n",
       "    .dataframe tbody tr th {\n",
       "        vertical-align: top;\n",
       "    }\n",
       "\n",
       "    .dataframe thead th {\n",
       "        text-align: right;\n",
       "    }\n",
       "</style>\n",
       "<table border=\"1\" class=\"dataframe\">\n",
       "  <thead>\n",
       "    <tr style=\"text-align: right;\">\n",
       "      <th></th>\n",
       "      <th>dataset</th>\n",
       "      <th>auc</th>\n",
       "      <th>acc</th>\n",
       "      <th>dice/F1</th>\n",
       "      <th>spec</th>\n",
       "      <th>sens</th>\n",
       "    </tr>\n",
       "  </thead>\n",
       "  <tbody>\n",
       "    <tr>\n",
       "      <th>0</th>\n",
       "      <td>DRIVE_train</td>\n",
       "      <td>0.9545</td>\n",
       "      <td>0.9397</td>\n",
       "      <td>0.7567</td>\n",
       "      <td>0.9681</td>\n",
       "      <td>0.7429</td>\n",
       "    </tr>\n",
       "    <tr>\n",
       "      <th>1</th>\n",
       "      <td>DRIVE_val</td>\n",
       "      <td>0.9641</td>\n",
       "      <td>0.9442</td>\n",
       "      <td>0.7691</td>\n",
       "      <td>0.9695</td>\n",
       "      <td>0.7620</td>\n",
       "    </tr>\n",
       "    <tr>\n",
       "      <th>2</th>\n",
       "      <td>DRIVE</td>\n",
       "      <td>0.9577</td>\n",
       "      <td>0.9453</td>\n",
       "      <td>0.7631</td>\n",
       "      <td>0.9821</td>\n",
       "      <td>0.6925</td>\n",
       "    </tr>\n",
       "    <tr>\n",
       "      <th>3</th>\n",
       "      <td>STARE</td>\n",
       "      <td>0.9383</td>\n",
       "      <td>0.9434</td>\n",
       "      <td>0.6794</td>\n",
       "      <td>0.9850</td>\n",
       "      <td>0.5816</td>\n",
       "    </tr>\n",
       "    <tr>\n",
       "      <th>4</th>\n",
       "      <td>CHASEDB</td>\n",
       "      <td>0.9289</td>\n",
       "      <td>0.9341</td>\n",
       "      <td>0.6557</td>\n",
       "      <td>0.9693</td>\n",
       "      <td>0.6209</td>\n",
       "    </tr>\n",
       "    <tr>\n",
       "      <th>5</th>\n",
       "      <td>AV-WIDE</td>\n",
       "      <td>0.7449</td>\n",
       "      <td>0.9394</td>\n",
       "      <td>0.2400</td>\n",
       "      <td>0.9962</td>\n",
       "      <td>0.1436</td>\n",
       "    </tr>\n",
       "  </tbody>\n",
       "</table>\n",
       "</div>"
      ],
      "text/plain": [
       "       dataset     auc     acc  dice/F1    spec    sens\n",
       "0  DRIVE_train  0.9545  0.9397   0.7567  0.9681  0.7429\n",
       "1    DRIVE_val  0.9641  0.9442   0.7691  0.9695  0.7620\n",
       "2        DRIVE  0.9577  0.9453   0.7631  0.9821  0.6925\n",
       "3        STARE  0.9383  0.9434   0.6794  0.9850  0.5816\n",
       "4      CHASEDB  0.9289  0.9341   0.6557  0.9693  0.6209\n",
       "5      AV-WIDE  0.7449  0.9394   0.2400  0.9962  0.1436"
      ]
     },
     "execution_count": 15,
     "metadata": {},
     "output_type": "execute_result"
    }
   ],
   "source": [
    "pd.read_csv('results/'+perfs[0])"
   ]
  },
  {
   "cell_type": "code",
   "execution_count": 16,
   "metadata": {},
   "outputs": [],
   "source": [
    "all_results = []\n",
    "for i in range(len(cfgs)):\n",
    "    with open('results/'+cfgs[i], 'r') as f:\n",
    "        args = json.load(f)\n",
    "    res = pd.read_csv('results/'+perfs[i])    \n",
    "    all_results.append([args,res])"
   ]
  },
  {
   "cell_type": "code",
   "execution_count": 17,
   "metadata": {},
   "outputs": [
    {
     "data": {
      "text/plain": [
       "['layers',\n",
       " 'n_classes',\n",
       " 'in_channels',\n",
       " 'up_mode',\n",
       " 'pool_mode',\n",
       " 'conv_bridge',\n",
       " 'shortcut',\n",
       " 'lr',\n",
       " 'disable_transforms',\n",
       " 'eps',\n",
       " 'batch_size',\n",
       " 'data_aug',\n",
       " 'normalize',\n",
       " 'metric',\n",
       " 'patience',\n",
       " 'scheduler_f',\n",
       " 'n_epochs',\n",
       " 'data_path',\n",
       " 'end2end',\n",
       " 'experiment_path',\n",
       " 'config_file_path']"
      ]
     },
     "execution_count": 17,
     "metadata": {},
     "output_type": "execute_result"
    }
   ],
   "source": [
    "list(all_results[0][0].keys())"
   ]
  },
  {
   "cell_type": "markdown",
   "metadata": {},
   "source": [
    "[8/16/32,4/16/32,4/8/64,4/8/32,4/8/16/32]"
   ]
  },
  {
   "cell_type": "code",
   "execution_count": 62,
   "metadata": {},
   "outputs": [
    {
     "name": "stdout",
     "output_type": "stream",
     "text": [
      "this one for none of them!\n",
      "{'layers': '8/16/32', 'n_classes': 1, 'in_channels': 3, 'up_mode': 'transp_conv', 'pool_mode': 'max_pool', 'conv_bridge': False, 'shortcut': False, 'lr': 0.01, 'disable_transforms': False, 'eps': 1e-08, 'batch_size': 4, 'data_aug': 'all', 'normalize': 'from_im_max', 'metric': 'auc', 'patience': 100, 'scheduler_f': 0.1, 'n_epochs': 1000, 'data_path': 'data/DRIVE/', 'end2end': False, 'experiment_path': 'experiments/2020-01-09-16:2054', 'config_file_path': 'experiments/2020-01-09-16:2054/config.cfg'}\n",
      "       dataset     auc     acc  dice/F1    spec    sens\n",
      "0  DRIVE_train  0.9807  0.9563   0.8271  0.9747  0.8284\n",
      "1    DRIVE_val  0.9828  0.9548   0.8182  0.9714  0.8351\n",
      "2        DRIVE  0.9795  0.9561   0.8203  0.9807  0.7875\n",
      "3        STARE  0.9720  0.9571   0.7883  0.9780  0.7749\n",
      "4      CHASEDB  0.9719  0.9489   0.7582  0.9664  0.7928\n",
      "5      AV-WIDE  0.8777  0.9551   0.5999  0.9872  0.5053\n",
      "this one for both of them! 0.01\n",
      "{'layers': '8/16/32', 'n_classes': 1, 'in_channels': 3, 'up_mode': 'transp_conv', 'pool_mode': 'max_pool', 'conv_bridge': True, 'shortcut': True, 'lr': 0.01, 'disable_transforms': False, 'eps': 1e-08, 'batch_size': 4, 'data_aug': 'all', 'normalize': 'from_im_max', 'metric': 'auc', 'patience': 100, 'scheduler_f': 0.1, 'n_epochs': 1000, 'data_path': 'data/DRIVE/', 'end2end': False, 'experiment_path': 'experiments/2020-01-09-16:2116', 'config_file_path': 'experiments/2020-01-09-16:2116/config.cfg'}\n",
      "       dataset     auc     acc  dice/F1    spec    sens\n",
      "0  DRIVE_train  0.9791  0.9554   0.8224  0.9754  0.8171\n",
      "1    DRIVE_val  0.9823  0.9548   0.8161  0.9731  0.8228\n",
      "2        DRIVE  0.9787  0.9556   0.8158  0.9822  0.7730\n",
      "3        STARE  0.9775  0.9575   0.7916  0.9775  0.7829\n",
      "4      CHASEDB  0.9659  0.9487   0.7506  0.9694  0.7640\n",
      "5      AV-WIDE  0.8335  0.9539   0.5814  0.9878  0.4798\n",
      "this one for both of them! 0.005\n",
      "{'layers': '8/16/32', 'n_classes': 1, 'in_channels': 3, 'up_mode': 'transp_conv', 'pool_mode': 'max_pool', 'conv_bridge': True, 'shortcut': True, 'lr': 0.005, 'disable_transforms': False, 'eps': 1e-08, 'batch_size': 4, 'data_aug': 'all', 'normalize': 'from_im_max', 'metric': 'auc', 'patience': 100, 'scheduler_f': 0.1, 'n_epochs': 1000, 'data_path': 'data/DRIVE/', 'end2end': False, 'experiment_path': 'experiments/2020-01-09-18:0217', 'config_file_path': 'experiments/2020-01-09-18:0217/config.cfg'}\n",
      "       dataset     auc     acc  dice/F1    spec    sens\n",
      "0  DRIVE_train  0.9802  0.9560   0.8256  0.9749  0.8252\n",
      "1    DRIVE_val  0.9823  0.9546   0.8177  0.9710  0.8364\n",
      "2        DRIVE  0.9790  0.9557   0.8178  0.9811  0.7812\n",
      "3        STARE  0.9774  0.9583   0.7968  0.9776  0.7913\n",
      "4      CHASEDB  0.9731  0.9492   0.7547  0.9691  0.7728\n",
      "5      AV-WIDE  0.9006  0.9551   0.6251  0.9832  0.5616\n"
     ]
    }
   ],
   "source": [
    "both_of_them_l = []\n",
    "conv_bridge_l = []\n",
    "shortcut_l = []\n",
    "none_of_them_l = []\n",
    "for i in range(len(cfgs)):\n",
    "#     if all_results[i][0]['layers']=='4/8/16/32':\n",
    "#     if all_results[i][0]['layers']=='4/8/32':\n",
    "#     if all_results[i][0]['layers']=='4/8/64':\n",
    "#     if all_results[i][0]['layers']=='4/16/32':\n",
    "    if all_results[i][0]['layers']=='8/16/32':\n",
    "        conv_bridge = all_results[i][0]['conv_bridge']\n",
    "        shortcut = all_results[i][0]['shortcut']\n",
    "        lr = all_results[i][0]['lr']\n",
    "        val_auc = all_results[i][1].iat[1,1]\n",
    "        train_auc = all_results[i][1].iat[0,1]\n",
    "        test_auc = all_results[i][1].iat[2,1]\n",
    "        if val_auc == 0.9828: \n",
    "            print('this one for none of them!')\n",
    "            print(all_results[i][0])\n",
    "            print(all_results[i][1])\n",
    "        if val_auc == 0.9823: \n",
    "            print('this one for both of them!', lr)\n",
    "            print(all_results[i][0])\n",
    "            print(all_results[i][1])\n",
    "        if conv_bridge and shortcut:\n",
    "            both_of_them_l.append([lr,val_auc,test_auc])\n",
    "        if conv_bridge and not shortcut:\n",
    "            conv_bridge_l.append([lr,val_auc,test_auc])\n",
    "        if not conv_bridge and shortcut:\n",
    "            shortcut_l.append([lr,val_auc,test_auc])       \n",
    "        if not conv_bridge and not shortcut:\n",
    "            none_of_them_l.append([lr,val_auc,test_auc])\n",
    "\n",
    "both_of_them = np.array(both_of_them_l)\n",
    "conv_bridge = np.array(conv_bridge_l)\n",
    "shortcut = np.array(shortcut_l)\n",
    "none_of_them = np.array(none_of_them_l)"
   ]
  },
  {
   "cell_type": "code",
   "execution_count": 56,
   "metadata": {},
   "outputs": [
    {
     "data": {
      "text/plain": [
       "array([[0.01  , 0.9641, 0.9577],\n",
       "       [0.01  , 0.637 , 0.587 ],\n",
       "       [0.01  , 0.9639, 0.9588],\n",
       "       [0.01  , 0.9828, 0.9795],\n",
       "       [0.05  , 0.9814, 0.9782],\n",
       "       [0.005 , 0.9826, 0.9793]])"
      ]
     },
     "execution_count": 56,
     "metadata": {},
     "output_type": "execute_result"
    }
   ],
   "source": [
    "none_of_them"
   ]
  },
  {
   "cell_type": "code",
   "execution_count": 53,
   "metadata": {},
   "outputs": [
    {
     "data": {
      "text/plain": [
       "array([[0.005 , 0.9826, 0.9793],\n",
       "       [0.01  , 0.9641, 0.9577],\n",
       "       [0.01  , 0.637 , 0.587 ],\n",
       "       [0.01  , 0.9639, 0.9588],\n",
       "       [0.01  , 0.9828, 0.9795],\n",
       "       [0.05  , 0.9814, 0.9782]])"
      ]
     },
     "execution_count": 53,
     "metadata": {},
     "output_type": "execute_result"
    }
   ],
   "source": [
    "none_of_them[none_of_them[:,0].argsort()]"
   ]
  },
  {
   "cell_type": "code",
   "execution_count": 54,
   "metadata": {},
   "outputs": [
    {
     "data": {
      "text/plain": [
       "array([[0.005 , 0.9823, 0.979 ],\n",
       "       [0.01  , 0.9496, 0.9462],\n",
       "       [0.01  , 0.9823, 0.9787],\n",
       "       [0.05  , 0.9821, 0.9787]])"
      ]
     },
     "execution_count": 54,
     "metadata": {},
     "output_type": "execute_result"
    }
   ],
   "source": [
    "both_of_them[both_of_them[:,0].argsort()]"
   ]
  },
  {
   "cell_type": "code",
   "execution_count": null,
   "metadata": {},
   "outputs": [],
   "source": [
    "# conv_bridge[conv_bridge[:,0].argsort()]"
   ]
  },
  {
   "cell_type": "code",
   "execution_count": null,
   "metadata": {},
   "outputs": [],
   "source": [
    "# shortcut[shortcut[:,0].argsort()]"
   ]
  },
  {
   "cell_type": "code",
   "execution_count": 55,
   "metadata": {},
   "outputs": [
    {
     "data": {
      "text/html": [
       "<div>\n",
       "<style scoped>\n",
       "    .dataframe tbody tr th:only-of-type {\n",
       "        vertical-align: middle;\n",
       "    }\n",
       "\n",
       "    .dataframe tbody tr th {\n",
       "        vertical-align: top;\n",
       "    }\n",
       "\n",
       "    .dataframe thead th {\n",
       "        text-align: right;\n",
       "    }\n",
       "</style>\n",
       "<table border=\"1\" class=\"dataframe\">\n",
       "  <thead>\n",
       "    <tr style=\"text-align: right;\">\n",
       "      <th></th>\n",
       "      <th>dataset</th>\n",
       "      <th>auc</th>\n",
       "      <th>acc</th>\n",
       "      <th>dice/F1</th>\n",
       "      <th>spec</th>\n",
       "      <th>sens</th>\n",
       "    </tr>\n",
       "  </thead>\n",
       "  <tbody>\n",
       "    <tr>\n",
       "      <th>0</th>\n",
       "      <td>DRIVE_train</td>\n",
       "      <td>0.9545</td>\n",
       "      <td>0.9397</td>\n",
       "      <td>0.7567</td>\n",
       "      <td>0.9681</td>\n",
       "      <td>0.7429</td>\n",
       "    </tr>\n",
       "    <tr>\n",
       "      <th>1</th>\n",
       "      <td>DRIVE_val</td>\n",
       "      <td>0.9641</td>\n",
       "      <td>0.9442</td>\n",
       "      <td>0.7691</td>\n",
       "      <td>0.9695</td>\n",
       "      <td>0.7620</td>\n",
       "    </tr>\n",
       "    <tr>\n",
       "      <th>2</th>\n",
       "      <td>DRIVE</td>\n",
       "      <td>0.9577</td>\n",
       "      <td>0.9453</td>\n",
       "      <td>0.7631</td>\n",
       "      <td>0.9821</td>\n",
       "      <td>0.6925</td>\n",
       "    </tr>\n",
       "    <tr>\n",
       "      <th>3</th>\n",
       "      <td>STARE</td>\n",
       "      <td>0.9383</td>\n",
       "      <td>0.9434</td>\n",
       "      <td>0.6794</td>\n",
       "      <td>0.9850</td>\n",
       "      <td>0.5816</td>\n",
       "    </tr>\n",
       "    <tr>\n",
       "      <th>4</th>\n",
       "      <td>CHASEDB</td>\n",
       "      <td>0.9289</td>\n",
       "      <td>0.9341</td>\n",
       "      <td>0.6557</td>\n",
       "      <td>0.9693</td>\n",
       "      <td>0.6209</td>\n",
       "    </tr>\n",
       "    <tr>\n",
       "      <th>5</th>\n",
       "      <td>AV-WIDE</td>\n",
       "      <td>0.7449</td>\n",
       "      <td>0.9394</td>\n",
       "      <td>0.2400</td>\n",
       "      <td>0.9962</td>\n",
       "      <td>0.1436</td>\n",
       "    </tr>\n",
       "  </tbody>\n",
       "</table>\n",
       "</div>"
      ],
      "text/plain": [
       "       dataset     auc     acc  dice/F1    spec    sens\n",
       "0  DRIVE_train  0.9545  0.9397   0.7567  0.9681  0.7429\n",
       "1    DRIVE_val  0.9641  0.9442   0.7691  0.9695  0.7620\n",
       "2        DRIVE  0.9577  0.9453   0.7631  0.9821  0.6925\n",
       "3        STARE  0.9383  0.9434   0.6794  0.9850  0.5816\n",
       "4      CHASEDB  0.9289  0.9341   0.6557  0.9693  0.6209\n",
       "5      AV-WIDE  0.7449  0.9394   0.2400  0.9962  0.1436"
      ]
     },
     "execution_count": 55,
     "metadata": {},
     "output_type": "execute_result"
    }
   ],
   "source": [
    "all_results[0][1]"
   ]
  },
  {
   "cell_type": "code",
   "execution_count": null,
   "metadata": {},
   "outputs": [],
   "source": []
  }
 ],
 "metadata": {
  "kernelspec": {
   "display_name": "pytorch_cpu",
   "language": "python",
   "name": "pytorch_cpu"
  },
  "language_info": {
   "codemirror_mode": {
    "name": "ipython",
    "version": 3
   },
   "file_extension": ".py",
   "mimetype": "text/x-python",
   "name": "python",
   "nbconvert_exporter": "python",
   "pygments_lexer": "ipython3",
   "version": "3.7.5"
  }
 },
 "nbformat": 4,
 "nbformat_minor": 2
}
